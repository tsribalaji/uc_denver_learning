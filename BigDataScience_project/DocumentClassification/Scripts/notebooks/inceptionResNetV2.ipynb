{
 "cells": [
  {
   "cell_type": "code",
   "execution_count": 7,
   "metadata": {},
   "outputs": [
    {
     "name": "stdout",
     "output_type": "stream",
     "text": [
      "2.3.1\n"
     ]
    }
   ],
   "source": [
    "import keras\n",
    "import tensorflow as tf\n",
    "print(keras.__version__)"
   ]
  },
  {
   "cell_type": "code",
   "execution_count": 8,
   "metadata": {},
   "outputs": [],
   "source": [
    "IMG_SIZE = 224"
   ]
  },
  {
   "cell_type": "code",
   "execution_count": 9,
   "metadata": {},
   "outputs": [],
   "source": [
    "IMG_SHAPE = (IMG_SIZE, IMG_SIZE, 3)"
   ]
  },
  {
   "cell_type": "code",
   "execution_count": 10,
   "metadata": {},
   "outputs": [],
   "source": [
    "inceptionResNetV2 = tf.keras.applications.InceptionResNetV2(\n",
    "    input_shape = IMG_SHAPE,\n",
    "    include_top=False,\n",
    "    weights=\"imagenet\")\n",
    "inceptionResNetV2.trainable=False\n",
    "\n",
    "Xception = tf.keras.applications.Xception(\n",
    "    include_top=False,\n",
    "    weights=\"imagenet\")\n",
    "Xception.trainable=False"
   ]
  },
  {
   "cell_type": "code",
   "execution_count": 11,
   "metadata": {},
   "outputs": [],
   "source": [
    "flatten_layer = tf.keras.layers.Flatten()\n",
    "dense_layer = tf.keras.layers.Dense(128,activation='relu')\n",
    "dropout_layer = tf.keras.layers.Dropout(0.5)\n",
    "prediction_layer = tf.keras.layers.Dense(10,activation='softmax')"
   ]
  },
  {
   "cell_type": "code",
   "execution_count": 12,
   "metadata": {},
   "outputs": [],
   "source": [
    "inceptionResNetV2_model = tf.keras.Sequential([\n",
    "  inceptionResNetV2,\n",
    "  flatten_layer,\n",
    "  dropout_layer,\n",
    "  dense_layer,\n",
    "  prediction_layer\n",
    "])"
   ]
  },
  {
   "cell_type": "code",
   "execution_count": 13,
   "metadata": {},
   "outputs": [
    {
     "name": "stdout",
     "output_type": "stream",
     "text": [
      "Model: \"sequential\"\n",
      "_________________________________________________________________\n",
      "Layer (type)                 Output Shape              Param #   \n",
      "=================================================================\n",
      "inception_resnet_v2 (Model)  (None, 5, 5, 1536)        54336736  \n",
      "_________________________________________________________________\n",
      "flatten_1 (Flatten)          (None, 38400)             0         \n",
      "_________________________________________________________________\n",
      "dropout_1 (Dropout)          (None, 38400)             0         \n",
      "_________________________________________________________________\n",
      "dense_2 (Dense)              (None, 128)               4915328   \n",
      "_________________________________________________________________\n",
      "dense_3 (Dense)              (None, 10)                1290      \n",
      "=================================================================\n",
      "Total params: 59,253,354\n",
      "Trainable params: 4,916,618\n",
      "Non-trainable params: 54,336,736\n",
      "_________________________________________________________________\n"
     ]
    }
   ],
   "source": [
    "learning_rate = 0.00001\n",
    "inceptionResNetV2_model.compile(optimizer=tf.keras.optimizers.Adam(lr=learning_rate), \n",
    "              loss=tf.keras.losses.categorical_crossentropy,\n",
    "              metrics=[\"accuracy\"])\n",
    "inceptionResNetV2_model.summary()"
   ]
  },
  {
   "cell_type": "code",
   "execution_count": 14,
   "metadata": {},
   "outputs": [
    {
     "name": "stdout",
     "output_type": "stream",
     "text": [
      "Found 1909 images belonging to 10 classes.\n",
      "Found 269 images belonging to 10 classes.\n"
     ]
    }
   ],
   "source": [
    "train_datagen = tf.keras.preprocessing.image.ImageDataGenerator(\n",
    "        rescale=1./255)\n",
    "test_datagen = tf.keras.preprocessing.image.ImageDataGenerator(rescale=1./255)\n",
    "train_generator = train_datagen.flow_from_directory(\n",
    "        r'D:\\BigDataScience\\Dataset\\archive\\Tobacco3482-jpg\\Balanced_train',\n",
    "        target_size=(224, 224),\n",
    "        batch_size=16)\n",
    "test_generator = test_datagen.flow_from_directory(\n",
    "        r'D:\\BigDataScience\\Dataset\\archive\\Tobacco3482-jpg\\Balanced_test',\n",
    "        target_size=(224, 224),\n",
    "        batch_size=16)"
   ]
  },
  {
   "cell_type": "code",
   "execution_count": 15,
   "metadata": {},
   "outputs": [
    {
     "name": "stdout",
     "output_type": "stream",
     "text": [
      "WARNING:tensorflow:From <ipython-input-15-97ecbf874269>:2: is_gpu_available (from tensorflow.python.framework.test_util) is deprecated and will be removed in a future version.\n",
      "Instructions for updating:\n",
      "Use `tf.config.list_physical_devices('GPU')` instead.\n"
     ]
    },
    {
     "data": {
      "text/plain": [
       "True"
      ]
     },
     "execution_count": 15,
     "metadata": {},
     "output_type": "execute_result"
    }
   ],
   "source": [
    "tf.test.is_gpu_available(\n",
    "    cuda_only=False, min_cuda_compute_capability=None\n",
    ")\n"
   ]
  },
  {
   "cell_type": "code",
   "execution_count": 16,
   "metadata": {},
   "outputs": [
    {
     "name": "stdout",
     "output_type": "stream",
     "text": [
      "Epoch 1/50\n",
      "120/119 [==============================] - 65s 541ms/step - loss: 2.0758 - accuracy: 0.2923 - val_loss: 1.3720 - val_accuracy: 0.5576\n",
      "Epoch 2/50\n",
      "120/119 [==============================] - 61s 507ms/step - loss: 1.4185 - accuracy: 0.5139 - val_loss: 1.1746 - val_accuracy: 0.5948\n",
      "Epoch 3/50\n",
      "120/119 [==============================] - 61s 508ms/step - loss: 1.1782 - accuracy: 0.6003 - val_loss: 1.0571 - val_accuracy: 0.6059\n",
      "Epoch 4/50\n",
      "120/119 [==============================] - 61s 511ms/step - loss: 1.0306 - accuracy: 0.6579 - val_loss: 0.9876 - val_accuracy: 0.6617\n",
      "Epoch 5/50\n",
      "120/119 [==============================] - 62s 516ms/step - loss: 0.9399 - accuracy: 0.6883 - val_loss: 0.9625 - val_accuracy: 0.6580\n",
      "Epoch 6/50\n",
      "120/119 [==============================] - 61s 507ms/step - loss: 0.8455 - accuracy: 0.7040 - val_loss: 0.9988 - val_accuracy: 0.6283\n",
      "Epoch 7/50\n",
      "120/119 [==============================] - 61s 510ms/step - loss: 0.7818 - accuracy: 0.7271 - val_loss: 0.8976 - val_accuracy: 0.6840\n",
      "Epoch 8/50\n",
      "120/119 [==============================] - 61s 511ms/step - loss: 0.7072 - accuracy: 0.7622 - val_loss: 0.9085 - val_accuracy: 0.6766\n",
      "Epoch 9/50\n",
      "120/119 [==============================] - 61s 507ms/step - loss: 0.6652 - accuracy: 0.7810 - val_loss: 0.9103 - val_accuracy: 0.6840\n",
      "Epoch 10/50\n",
      "120/119 [==============================] - 61s 509ms/step - loss: 0.6060 - accuracy: 0.8036 - val_loss: 0.8527 - val_accuracy: 0.6989\n",
      "Epoch 11/50\n",
      "120/119 [==============================] - 61s 506ms/step - loss: 0.5646 - accuracy: 0.8078 - val_loss: 0.8258 - val_accuracy: 0.7212\n",
      "Epoch 12/50\n",
      "120/119 [==============================] - 61s 507ms/step - loss: 0.5414 - accuracy: 0.8245 - val_loss: 0.9011 - val_accuracy: 0.7138\n",
      "Epoch 13/50\n",
      "120/119 [==============================] - 61s 508ms/step - loss: 0.4955 - accuracy: 0.8339 - val_loss: 0.8299 - val_accuracy: 0.7398\n",
      "Epoch 14/50\n",
      "120/119 [==============================] - 61s 507ms/step - loss: 0.4679 - accuracy: 0.8428 - val_loss: 0.8596 - val_accuracy: 0.7175\n",
      "Epoch 15/50\n",
      "120/119 [==============================] - 61s 507ms/step - loss: 0.4466 - accuracy: 0.8544 - val_loss: 0.8123 - val_accuracy: 0.7472\n",
      "Epoch 16/50\n",
      "120/119 [==============================] - 61s 507ms/step - loss: 0.4042 - accuracy: 0.8711 - val_loss: 0.8027 - val_accuracy: 0.7435\n",
      "Epoch 17/50\n",
      "120/119 [==============================] - 61s 510ms/step - loss: 0.3846 - accuracy: 0.8743 - val_loss: 0.8103 - val_accuracy: 0.7361\n",
      "Epoch 18/50\n",
      "120/119 [==============================] - 61s 507ms/step - loss: 0.3466 - accuracy: 0.8858 - val_loss: 0.8356 - val_accuracy: 0.7398\n",
      "Epoch 19/50\n",
      "120/119 [==============================] - 61s 505ms/step - loss: 0.3609 - accuracy: 0.8848 - val_loss: 0.7866 - val_accuracy: 0.7509\n",
      "Epoch 20/50\n",
      "120/119 [==============================] - 61s 509ms/step - loss: 0.3144 - accuracy: 0.9026 - val_loss: 0.9015 - val_accuracy: 0.7063\n",
      "Epoch 21/50\n",
      "120/119 [==============================] - 61s 508ms/step - loss: 0.3003 - accuracy: 0.9015 - val_loss: 0.8066 - val_accuracy: 0.7249\n",
      "Epoch 22/50\n",
      "120/119 [==============================] - 61s 507ms/step - loss: 0.2571 - accuracy: 0.9219 - val_loss: 0.8359 - val_accuracy: 0.7472\n",
      "Epoch 23/50\n",
      "120/119 [==============================] - 61s 508ms/step - loss: 0.2561 - accuracy: 0.9209 - val_loss: 0.8801 - val_accuracy: 0.7175\n",
      "Epoch 24/50\n",
      "120/119 [==============================] - 62s 513ms/step - loss: 0.2491 - accuracy: 0.9204 - val_loss: 0.8109 - val_accuracy: 0.7584\n",
      "Epoch 25/50\n",
      "120/119 [==============================] - 61s 508ms/step - loss: 0.2350 - accuracy: 0.9230 - val_loss: 0.8707 - val_accuracy: 0.7286\n",
      "Epoch 26/50\n",
      "120/119 [==============================] - 61s 506ms/step - loss: 0.2103 - accuracy: 0.9382 - val_loss: 0.9471 - val_accuracy: 0.6840\n",
      "Epoch 27/50\n",
      "120/119 [==============================] - 61s 508ms/step - loss: 0.1983 - accuracy: 0.9413 - val_loss: 0.7836 - val_accuracy: 0.7472\n",
      "Epoch 28/50\n",
      "120/119 [==============================] - 62s 516ms/step - loss: 0.1872 - accuracy: 0.9487 - val_loss: 0.8186 - val_accuracy: 0.7435\n",
      "Epoch 29/50\n",
      "120/119 [==============================] - 64s 534ms/step - loss: 0.1787 - accuracy: 0.9492 - val_loss: 0.8865 - val_accuracy: 0.7361\n",
      "Epoch 30/50\n",
      "120/119 [==============================] - 65s 543ms/step - loss: 0.1580 - accuracy: 0.9555 - val_loss: 0.7963 - val_accuracy: 0.7546\n",
      "Epoch 31/50\n",
      "120/119 [==============================] - 65s 543ms/step - loss: 0.1583 - accuracy: 0.9555 - val_loss: 0.9467 - val_accuracy: 0.7249\n",
      "Epoch 32/50\n",
      "120/119 [==============================] - 66s 548ms/step - loss: 0.1573 - accuracy: 0.9544 - val_loss: 0.8352 - val_accuracy: 0.7509\n",
      "Epoch 33/50\n",
      "120/119 [==============================] - 66s 548ms/step - loss: 0.1417 - accuracy: 0.9654 - val_loss: 0.8514 - val_accuracy: 0.7584\n",
      "Epoch 34/50\n",
      "120/119 [==============================] - 66s 548ms/step - loss: 0.1344 - accuracy: 0.9654 - val_loss: 0.8782 - val_accuracy: 0.7398\n",
      "Epoch 35/50\n",
      "120/119 [==============================] - 66s 552ms/step - loss: 0.1197 - accuracy: 0.9728 - val_loss: 0.9516 - val_accuracy: 0.7100\n",
      "Epoch 36/50\n",
      "120/119 [==============================] - 66s 551ms/step - loss: 0.1124 - accuracy: 0.9743 - val_loss: 0.8532 - val_accuracy: 0.7509\n",
      "Epoch 37/50\n",
      "120/119 [==============================] - 66s 549ms/step - loss: 0.1149 - accuracy: 0.9701 - val_loss: 0.8360 - val_accuracy: 0.7472\n",
      "Epoch 38/50\n",
      "120/119 [==============================] - 66s 549ms/step - loss: 0.1020 - accuracy: 0.9738 - val_loss: 0.9306 - val_accuracy: 0.7249\n",
      "Epoch 39/50\n",
      "120/119 [==============================] - 66s 552ms/step - loss: 0.1041 - accuracy: 0.9749 - val_loss: 0.8448 - val_accuracy: 0.7472\n",
      "Epoch 40/50\n",
      "120/119 [==============================] - 66s 552ms/step - loss: 0.0844 - accuracy: 0.9817 - val_loss: 0.8635 - val_accuracy: 0.7435\n",
      "Epoch 41/50\n",
      "120/119 [==============================] - 66s 549ms/step - loss: 0.0852 - accuracy: 0.9811 - val_loss: 0.8319 - val_accuracy: 0.7509\n",
      "Epoch 42/50\n",
      "120/119 [==============================] - 66s 552ms/step - loss: 0.0842 - accuracy: 0.9832 - val_loss: 0.9016 - val_accuracy: 0.7249\n",
      "Epoch 43/50\n",
      "120/119 [==============================] - 66s 547ms/step - loss: 0.0734 - accuracy: 0.9859 - val_loss: 0.8192 - val_accuracy: 0.7621\n",
      "Epoch 44/50\n",
      "120/119 [==============================] - 65s 544ms/step - loss: 0.0734 - accuracy: 0.9853 - val_loss: 0.8821 - val_accuracy: 0.7509\n",
      "Epoch 45/50\n",
      "120/119 [==============================] - 64s 534ms/step - loss: 0.0651 - accuracy: 0.9895 - val_loss: 0.8820 - val_accuracy: 0.7472\n",
      "Epoch 46/50\n",
      "120/119 [==============================] - 65s 542ms/step - loss: 0.0737 - accuracy: 0.9853 - val_loss: 0.9135 - val_accuracy: 0.7398\n",
      "Epoch 47/50\n",
      "120/119 [==============================] - 65s 541ms/step - loss: 0.0638 - accuracy: 0.9880 - val_loss: 0.9377 - val_accuracy: 0.7435\n",
      "Epoch 48/50\n",
      "120/119 [==============================] - 64s 537ms/step - loss: 0.0605 - accuracy: 0.9932 - val_loss: 0.8555 - val_accuracy: 0.7584\n",
      "Epoch 49/50\n",
      "120/119 [==============================] - 65s 540ms/step - loss: 0.0620 - accuracy: 0.9885 - val_loss: 0.8771 - val_accuracy: 0.7435\n",
      "Epoch 50/50\n",
      "120/119 [==============================] - 64s 536ms/step - loss: 0.0591 - accuracy: 0.9885 - val_loss: 0.9049 - val_accuracy: 0.7435\n"
     ]
    }
   ],
   "source": [
    "inceptionResNetV2_history = inceptionResNetV2_model.fit(train_generator,\n",
    "                    epochs=50, \n",
    "                    steps_per_epoch =1909/16,\n",
    "                    validation_steps=269/16,\n",
    "                    validation_data=test_generator)"
   ]
  },
  {
   "cell_type": "code",
   "execution_count": 17,
   "metadata": {},
   "outputs": [],
   "source": [
    "inceptionResNetV2_model.save('inceptionResNetV2_history_model.h5')"
   ]
  },
  {
   "cell_type": "code",
   "execution_count": 18,
   "metadata": {},
   "outputs": [
    {
     "data": {
      "image/png": "[encoded data removed]",
      "text/plain": [
       "<Figure size 432x288 with 1 Axes>"
      ]
     },
     "metadata": {
      "needs_background": "light"
     },
     "output_type": "display_data"
    },
    {
     "data": {
      "image/png": "[encoded data removed]",
      "text/plain": [
       "<Figure size 432x288 with 1 Axes>"
      ]
     },
     "metadata": {
      "needs_background": "light"
     },
     "output_type": "display_data"
    }
   ],
   "source": [
    "%matplotlib inline\n",
    "import matplotlib.pyplot as plt\n",
    "import matplotlib.image as mpimg\n",
    "\n",
    "plt.plot(inceptionResNetV2_history.history['loss'])\n",
    "plt.plot(inceptionResNetV2_history.history['val_loss'])\n",
    "plt.title('model loss')\n",
    "plt.ylabel('loss')\n",
    "plt.xlabel('epoch')\n",
    "plt.grid()\n",
    "plt.legend(['training loss', 'validation loss'], loc='upper right')\n",
    "plt.show()\n",
    "\n",
    "plt.plot(inceptionResNetV2_history.history['accuracy'])\n",
    "plt.plot(inceptionResNetV2_history.history['val_accuracy'])\n",
    "plt.title('model accuracy')\n",
    "plt.grid()\n",
    "plt.ylabel('accuracy')\n",
    "plt.xlabel('epoch')\n",
    "plt.legend(['training accuracy', 'validation accuracy'], loc='lower right')\n",
    "plt.show()"
   ]
  },
  {
   "cell_type": "code",
   "execution_count": null,
   "metadata": {},
   "outputs": [],
   "source": []
  }
 ],
 "metadata": {
  "kernelspec": {
   "display_name": "Python 3",
   "language": "python",
   "name": "python3"
  },
  "language_info": {
   "codemirror_mode": {
    "name": "ipython",
    "version": 3
   },
   "file_extension": ".py",
   "mimetype": "text/x-python",
   "name": "python",
   "nbconvert_exporter": "python",
   "pygments_lexer": "ipython3",
   "version": "3.7.0"
  }
 },
 "nbformat": 4,
 "nbformat_minor": 4
}
