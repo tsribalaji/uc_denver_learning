{
 "cells": [
  {
   "cell_type": "code",
   "execution_count": 1,
   "metadata": {},
   "outputs": [
    {
     "name": "stderr",
     "output_type": "stream",
     "text": [
      "Using TensorFlow backend.\n"
     ]
    },
    {
     "name": "stdout",
     "output_type": "stream",
     "text": [
      "2.3.1\n"
     ]
    }
   ],
   "source": [
    "import keras\n",
    "import tensorflow as tf\n",
    "print(keras.__version__)"
   ]
  },
  {
   "cell_type": "code",
   "execution_count": 2,
   "metadata": {},
   "outputs": [],
   "source": [
    "IMG_SIZE = 224"
   ]
  },
  {
   "cell_type": "code",
   "execution_count": 3,
   "metadata": {},
   "outputs": [],
   "source": [
    "IMG_SHAPE = (IMG_SIZE, IMG_SIZE, 3)"
   ]
  },
  {
   "cell_type": "code",
   "execution_count": 4,
   "metadata": {},
   "outputs": [],
   "source": [
    "vgg16 = tf.keras.applications.VGG16(\n",
    "    input_shape = IMG_SHAPE,\n",
    "    include_top=False,\n",
    "    weights=\"imagenet\")\n",
    "vgg16.trainable=False\n",
    "\n",
    "vgg19 = tf.keras.applications.VGG19(\n",
    "    include_top=False,\n",
    "    input_shape = IMG_SHAPE,\n",
    "    weights=\"imagenet\")\n",
    "vgg19.trainable=False\n",
    "\n",
    "resNet50 = tf.keras.applications.ResNet50(\n",
    "    include_top=False,\n",
    "    input_shape = IMG_SHAPE,\n",
    "    weights=\"imagenet\")\n",
    "resNet50.trainable=False\n",
    "\n",
    "inceptionResNetV2 = tf.keras.applications.InceptionResNetV2(\n",
    "    include_top=False,\n",
    "    weights=\"imagenet\")\n",
    "inceptionResNetV2.trainable=False\n",
    "\n",
    "Xception = tf.keras.applications.Xception(\n",
    "    include_top=False,\n",
    "    weights=\"imagenet\")\n",
    "Xception.trainable=False"
   ]
  },
  {
   "cell_type": "code",
   "execution_count": 5,
   "metadata": {},
   "outputs": [],
   "source": [
    "flatten_layer = tf.keras.layers.Flatten()\n",
    "dense_layer = tf.keras.layers.Dense(128,activation='relu')\n",
    "dropout_layer = tf.keras.layers.Dropout(0.5)\n",
    "prediction_layer = tf.keras.layers.Dense(10,activation='softmax')"
   ]
  },
  {
   "cell_type": "code",
   "execution_count": 6,
   "metadata": {},
   "outputs": [],
   "source": [
    "resNet50_model = tf.keras.Sequential([\n",
    "  resNet50,\n",
    "  flatten_layer,\n",
    "  dropout_layer,\n",
    "  dense_layer,\n",
    "  prediction_layer\n",
    "])"
   ]
  },
  {
   "cell_type": "code",
   "execution_count": 7,
   "metadata": {},
   "outputs": [
    {
     "name": "stdout",
     "output_type": "stream",
     "text": [
      "Model: \"sequential\"\n",
      "_________________________________________________________________\n",
      "Layer (type)                 Output Shape              Param #   \n",
      "=================================================================\n",
      "resnet50 (Model)             (None, 7, 7, 2048)        23587712  \n",
      "_________________________________________________________________\n",
      "flatten (Flatten)            (None, 100352)            0         \n",
      "_________________________________________________________________\n",
      "dropout (Dropout)            (None, 100352)            0         \n",
      "_________________________________________________________________\n",
      "dense (Dense)                (None, 128)               12845184  \n",
      "_________________________________________________________________\n",
      "dense_1 (Dense)              (None, 10)                1290      \n",
      "=================================================================\n",
      "Total params: 36,434,186\n",
      "Trainable params: 12,846,474\n",
      "Non-trainable params: 23,587,712\n",
      "_________________________________________________________________\n"
     ]
    }
   ],
   "source": [
    "learning_rate = 0.00001\n",
    "resNet50_model.compile(optimizer=tf.keras.optimizers.Adam(lr=learning_rate), \n",
    "              loss=tf.keras.losses.categorical_crossentropy,\n",
    "              metrics=[\"accuracy\"])\n",
    "resNet50_model.summary()"
   ]
  },
  {
   "cell_type": "code",
   "execution_count": 9,
   "metadata": {},
   "outputs": [
    {
     "name": "stdout",
     "output_type": "stream",
     "text": [
      "Found 1909 images belonging to 10 classes.\n",
      "Found 269 images belonging to 10 classes.\n"
     ]
    }
   ],
   "source": [
    "train_datagen = tf.keras.preprocessing.image.ImageDataGenerator(\n",
    "        rescale=1./255)\n",
    "test_datagen = tf.keras.preprocessing.image.ImageDataGenerator(rescale=1./255)\n",
    "train_generator = train_datagen.flow_from_directory(\n",
    "        r'D:\\BigDataScience\\Dataset\\archive\\Tobacco3482-jpg\\Balanced_train',\n",
    "        target_size=(224, 224),\n",
    "        batch_size=16)\n",
    "test_generator = test_datagen.flow_from_directory(\n",
    "        r'D:\\BigDataScience\\Dataset\\archive\\Tobacco3482-jpg\\Balanced_test',\n",
    "        target_size=(224, 224),\n",
    "        batch_size=16)"
   ]
  },
  {
   "cell_type": "code",
   "execution_count": 10,
   "metadata": {},
   "outputs": [
    {
     "name": "stdout",
     "output_type": "stream",
     "text": [
      "WARNING:tensorflow:From <ipython-input-10-97ecbf874269>:2: is_gpu_available (from tensorflow.python.framework.test_util) is deprecated and will be removed in a future version.\n",
      "Instructions for updating:\n",
      "Use `tf.config.list_physical_devices('GPU')` instead.\n"
     ]
    },
    {
     "data": {
      "text/plain": [
       "True"
      ]
     },
     "execution_count": 10,
     "metadata": {},
     "output_type": "execute_result"
    }
   ],
   "source": [
    "tf.test.is_gpu_available(\n",
    "    cuda_only=False, min_cuda_compute_capability=None\n",
    ")\n"
   ]
  },
  {
   "cell_type": "code",
   "execution_count": 11,
   "metadata": {},
   "outputs": [
    {
     "name": "stdout",
     "output_type": "stream",
     "text": [
      "Epoch 1/50\n",
      "120/119 [==============================] - 61s 510ms/step - loss: 2.3830 - accuracy: 0.1807 - val_loss: 1.9475 - val_accuracy: 0.2677\n",
      "Epoch 2/50\n",
      "120/119 [==============================] - 60s 501ms/step - loss: 2.0662 - accuracy: 0.2535 - val_loss: 1.7827 - val_accuracy: 0.3160\n",
      "Epoch 3/50\n",
      "120/119 [==============================] - 60s 503ms/step - loss: 1.9228 - accuracy: 0.2975 - val_loss: 1.6704 - val_accuracy: 0.4164\n",
      "Epoch 4/50\n",
      "120/119 [==============================] - 61s 506ms/step - loss: 1.8203 - accuracy: 0.3373 - val_loss: 1.6680 - val_accuracy: 0.3717\n",
      "Epoch 5/50\n",
      "120/119 [==============================] - 61s 506ms/step - loss: 1.7335 - accuracy: 0.3709 - val_loss: 1.5949 - val_accuracy: 0.4349\n",
      "Epoch 6/50\n",
      "120/119 [==============================] - 60s 503ms/step - loss: 1.6788 - accuracy: 0.3976 - val_loss: 1.4891 - val_accuracy: 0.5093\n",
      "Epoch 7/50\n",
      "120/119 [==============================] - 61s 506ms/step - loss: 1.6440 - accuracy: 0.3986 - val_loss: 1.4442 - val_accuracy: 0.5502\n",
      "Epoch 8/50\n",
      "120/119 [==============================] - 61s 507ms/step - loss: 1.5728 - accuracy: 0.4332 - val_loss: 1.4216 - val_accuracy: 0.5390\n",
      "Epoch 9/50\n",
      "120/119 [==============================] - 61s 507ms/step - loss: 1.5733 - accuracy: 0.4505 - val_loss: 1.3937 - val_accuracy: 0.5539\n",
      "Epoch 10/50\n",
      "120/119 [==============================] - 62s 518ms/step - loss: 1.5303 - accuracy: 0.4542 - val_loss: 1.3863 - val_accuracy: 0.5502\n",
      "Epoch 11/50\n",
      "120/119 [==============================] - 63s 522ms/step - loss: 1.4675 - accuracy: 0.4893 - val_loss: 1.3087 - val_accuracy: 0.6022\n",
      "Epoch 12/50\n",
      "120/119 [==============================] - 62s 518ms/step - loss: 1.4301 - accuracy: 0.5024 - val_loss: 1.3271 - val_accuracy: 0.5725\n",
      "Epoch 13/50\n",
      "120/119 [==============================] - 62s 513ms/step - loss: 1.3943 - accuracy: 0.5139 - val_loss: 1.3115 - val_accuracy: 0.5613\n",
      "Epoch 14/50\n",
      "120/119 [==============================] - 64s 531ms/step - loss: 1.3854 - accuracy: 0.5144 - val_loss: 1.2504 - val_accuracy: 0.5799\n",
      "Epoch 15/50\n",
      "120/119 [==============================] - 63s 525ms/step - loss: 1.3423 - accuracy: 0.5275 - val_loss: 1.2317 - val_accuracy: 0.5688\n",
      "Epoch 16/50\n",
      "120/119 [==============================] - 63s 526ms/step - loss: 1.3300 - accuracy: 0.5411 - val_loss: 1.2412 - val_accuracy: 0.5911\n",
      "Epoch 17/50\n",
      "120/119 [==============================] - 64s 530ms/step - loss: 1.2623 - accuracy: 0.5652 - val_loss: 1.2054 - val_accuracy: 0.6022\n",
      "Epoch 18/50\n",
      "120/119 [==============================] - 63s 524ms/step - loss: 1.2701 - accuracy: 0.5537 - val_loss: 1.2163 - val_accuracy: 0.6022\n",
      "Epoch 19/50\n",
      "120/119 [==============================] - 63s 524ms/step - loss: 1.2328 - accuracy: 0.5825 - val_loss: 1.1878 - val_accuracy: 0.6022\n",
      "Epoch 20/50\n",
      "120/119 [==============================] - 63s 525ms/step - loss: 1.2145 - accuracy: 0.5856 - val_loss: 1.1526 - val_accuracy: 0.6134\n",
      "Epoch 21/50\n",
      "120/119 [==============================] - 63s 526ms/step - loss: 1.2090 - accuracy: 0.5893 - val_loss: 1.1633 - val_accuracy: 0.6208\n",
      "Epoch 22/50\n",
      "120/119 [==============================] - 63s 525ms/step - loss: 1.1840 - accuracy: 0.5877 - val_loss: 1.1457 - val_accuracy: 0.6394\n",
      "Epoch 23/50\n",
      "120/119 [==============================] - 63s 524ms/step - loss: 1.1645 - accuracy: 0.5856 - val_loss: 1.1311 - val_accuracy: 0.6245\n",
      "Epoch 24/50\n",
      "120/119 [==============================] - 63s 525ms/step - loss: 1.1364 - accuracy: 0.6092 - val_loss: 1.1329 - val_accuracy: 0.6320\n",
      "Epoch 25/50\n",
      "120/119 [==============================] - 63s 524ms/step - loss: 1.1229 - accuracy: 0.6186 - val_loss: 1.1248 - val_accuracy: 0.6059\n",
      "Epoch 26/50\n",
      "120/119 [==============================] - 63s 527ms/step - loss: 1.0915 - accuracy: 0.6265 - val_loss: 1.1185 - val_accuracy: 0.6394\n",
      "Epoch 27/50\n",
      "120/119 [==============================] - 63s 524ms/step - loss: 1.0715 - accuracy: 0.6375 - val_loss: 1.0807 - val_accuracy: 0.6468\n",
      "Epoch 28/50\n",
      "120/119 [==============================] - 63s 527ms/step - loss: 1.0589 - accuracy: 0.6312 - val_loss: 1.1378 - val_accuracy: 0.5985\n",
      "Epoch 29/50\n",
      "120/119 [==============================] - 64s 529ms/step - loss: 1.0570 - accuracy: 0.6370 - val_loss: 1.1243 - val_accuracy: 0.6134\n",
      "Epoch 30/50\n",
      "120/119 [==============================] - 63s 527ms/step - loss: 1.0205 - accuracy: 0.6427 - val_loss: 1.1060 - val_accuracy: 0.6357\n",
      "Epoch 31/50\n",
      "120/119 [==============================] - 63s 528ms/step - loss: 1.0055 - accuracy: 0.6532 - val_loss: 1.1338 - val_accuracy: 0.6134\n",
      "Epoch 32/50\n",
      "120/119 [==============================] - 64s 529ms/step - loss: 0.9882 - accuracy: 0.6647 - val_loss: 1.0943 - val_accuracy: 0.6431\n",
      "Epoch 33/50\n",
      "120/119 [==============================] - 63s 529ms/step - loss: 1.0223 - accuracy: 0.6585 - val_loss: 1.1062 - val_accuracy: 0.6431\n",
      "Epoch 34/50\n",
      "120/119 [==============================] - 64s 530ms/step - loss: 0.9724 - accuracy: 0.6726 - val_loss: 1.1170 - val_accuracy: 0.6245\n",
      "Epoch 35/50\n",
      "120/119 [==============================] - 64s 537ms/step - loss: 0.9531 - accuracy: 0.6768 - val_loss: 1.0798 - val_accuracy: 0.6320\n",
      "Epoch 36/50\n",
      "120/119 [==============================] - 65s 538ms/step - loss: 0.9551 - accuracy: 0.6742 - val_loss: 1.0797 - val_accuracy: 0.6431\n",
      "Epoch 37/50\n",
      "120/119 [==============================] - 64s 537ms/step - loss: 0.9209 - accuracy: 0.6847 - val_loss: 1.1126 - val_accuracy: 0.6245\n",
      "Epoch 38/50\n",
      "120/119 [==============================] - 63s 528ms/step - loss: 0.9315 - accuracy: 0.6867 - val_loss: 1.0954 - val_accuracy: 0.6394\n",
      "Epoch 39/50\n",
      "120/119 [==============================] - 63s 523ms/step - loss: 0.9169 - accuracy: 0.6899 - val_loss: 1.0937 - val_accuracy: 0.6283\n",
      "Epoch 40/50\n",
      "120/119 [==============================] - 64s 537ms/step - loss: 0.9177 - accuracy: 0.6852 - val_loss: 1.0976 - val_accuracy: 0.6283\n",
      "Epoch 41/50\n",
      "120/119 [==============================] - 63s 521ms/step - loss: 0.9028 - accuracy: 0.7030 - val_loss: 1.0614 - val_accuracy: 0.6654\n",
      "Epoch 42/50\n",
      "120/119 [==============================] - 60s 503ms/step - loss: 0.8660 - accuracy: 0.7040 - val_loss: 1.0627 - val_accuracy: 0.6431\n",
      "Epoch 43/50\n",
      "120/119 [==============================] - 60s 503ms/step - loss: 0.8749 - accuracy: 0.7108 - val_loss: 1.0101 - val_accuracy: 0.6617\n",
      "Epoch 44/50\n",
      "120/119 [==============================] - 60s 503ms/step - loss: 0.8961 - accuracy: 0.7046 - val_loss: 1.0942 - val_accuracy: 0.6431\n",
      "Epoch 45/50\n",
      "120/119 [==============================] - 61s 505ms/step - loss: 0.8443 - accuracy: 0.7046 - val_loss: 1.0851 - val_accuracy: 0.6171\n",
      "Epoch 46/50\n",
      "120/119 [==============================] - 60s 503ms/step - loss: 0.8551 - accuracy: 0.7150 - val_loss: 1.0404 - val_accuracy: 0.6468\n",
      "Epoch 47/50\n",
      "120/119 [==============================] - 61s 505ms/step - loss: 0.8398 - accuracy: 0.7245 - val_loss: 1.0600 - val_accuracy: 0.6431\n",
      "Epoch 48/50\n",
      "120/119 [==============================] - 60s 503ms/step - loss: 0.8172 - accuracy: 0.7281 - val_loss: 1.0377 - val_accuracy: 0.6617\n",
      "Epoch 49/50\n",
      "120/119 [==============================] - 60s 503ms/step - loss: 0.8174 - accuracy: 0.7281 - val_loss: 1.0639 - val_accuracy: 0.6543\n",
      "Epoch 50/50\n",
      "120/119 [==============================] - 60s 504ms/step - loss: 0.8037 - accuracy: 0.7271 - val_loss: 1.0127 - val_accuracy: 0.6580\n"
     ]
    }
   ],
   "source": [
    "resNet50_history = resNet50_model.fit(train_generator,\n",
    "                    epochs=50, \n",
    "                    steps_per_epoch =1909/16,\n",
    "                    validation_steps=269/16,\n",
    "                    validation_data=test_generator)"
   ]
  },
  {
   "cell_type": "code",
   "execution_count": 12,
   "metadata": {},
   "outputs": [],
   "source": [
    "resNet50_model.save('resNet50_model.h5')"
   ]
  },
  {
   "cell_type": "code",
   "execution_count": 15,
   "metadata": {},
   "outputs": [
    {
     "data": {
      "image/png": "[encoded data removed]",
      "text/plain": [
       "<Figure size 432x288 with 1 Axes>"
      ]
     },
     "metadata": {
      "needs_background": "light"
     },
     "output_type": "display_data"
    },
    {
     "data": {
      "image/png": "[encoded data removed]",
      "text/plain": [
       "<Figure size 432x288 with 1 Axes>"
      ]
     },
     "metadata": {
      "needs_background": "light"
     },
     "output_type": "display_data"
    }
   ],
   "source": [
    "%matplotlib inline\n",
    "import matplotlib.pyplot as plt\n",
    "import matplotlib.image as mpimg\n",
    "\n",
    "plt.plot(resNet50_history.history['loss'])\n",
    "plt.plot(resNet50_history.history['val_loss'])\n",
    "plt.title('model loss')\n",
    "plt.ylabel('loss')\n",
    "plt.xlabel('epoch')\n",
    "plt.grid()\n",
    "plt.legend(['training loss', 'validation loss'], loc='upper right')\n",
    "plt.show()\n",
    "\n",
    "plt.plot(resNet50_history.history['accuracy'])\n",
    "plt.plot(resNet50_history.history['val_accuracy'])\n",
    "plt.title('model accuracy')\n",
    "plt.grid()\n",
    "plt.ylabel('accuracy')\n",
    "plt.xlabel('epoch')\n",
    "plt.legend(['training accuracy', 'validation accuracy'], loc='lower right')\n",
    "plt.show()"
   ]
  },
  {
   "cell_type": "code",
   "execution_count": null,
   "metadata": {},
   "outputs": [],
   "source": []
  }
 ],
 "metadata": {
  "kernelspec": {
   "display_name": "Python 3",
   "language": "python",
   "name": "python3"
  },
  "language_info": {
   "codemirror_mode": {
    "name": "ipython",
    "version": 3
   },
   "file_extension": ".py",
   "mimetype": "text/x-python",
   "name": "python",
   "nbconvert_exporter": "python",
   "pygments_lexer": "ipython3",
   "version": "3.7.0"
  }
 },
 "nbformat": 4,
 "nbformat_minor": 4
}
