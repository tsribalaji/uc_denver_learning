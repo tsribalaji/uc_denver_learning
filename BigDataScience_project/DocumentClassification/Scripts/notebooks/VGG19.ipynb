{
 "cells": [
  {
   "cell_type": "code",
   "execution_count": 1,
   "metadata": {},
   "outputs": [
    {
     "name": "stderr",
     "output_type": "stream",
     "text": [
      "Using TensorFlow backend.\n"
     ]
    },
    {
     "name": "stdout",
     "output_type": "stream",
     "text": [
      "2.3.1\n"
     ]
    }
   ],
   "source": [
    "import keras\n",
    "import tensorflow as tf\n",
    "print(keras.__version__)"
   ]
  },
  {
   "cell_type": "code",
   "execution_count": 2,
   "metadata": {},
   "outputs": [],
   "source": [
    "IMG_SIZE = 224"
   ]
  },
  {
   "cell_type": "code",
   "execution_count": 3,
   "metadata": {},
   "outputs": [],
   "source": [
    "IMG_SHAPE = (IMG_SIZE, IMG_SIZE, 3)"
   ]
  },
  {
   "cell_type": "code",
   "execution_count": 7,
   "metadata": {},
   "outputs": [],
   "source": [
    "vgg16 = tf.keras.applications.VGG16(\n",
    "    input_shape = IMG_SHAPE,\n",
    "    include_top=False,\n",
    "    weights=\"imagenet\")\n",
    "vgg16.trainable=False\n",
    "\n",
    "vgg19 = tf.keras.applications.VGG19(\n",
    "    include_top=False,\n",
    "    input_shape = IMG_SHAPE,\n",
    "    weights=\"imagenet\")\n",
    "vgg19.trainable=False\n",
    "\n",
    "resNet50 = tf.keras.applications.ResNet50(\n",
    "    include_top=False,\n",
    "    weights=\"imagenet\")\n",
    "resNet50.trainable=False\n",
    "\n",
    "inceptionResNetV2 = tf.keras.applications.InceptionResNetV2(\n",
    "    include_top=False,\n",
    "    weights=\"imagenet\")\n",
    "inceptionResNetV2.trainable=False\n",
    "\n",
    "Xception = tf.keras.applications.Xception(\n",
    "    include_top=False,\n",
    "    weights=\"imagenet\")\n",
    "Xception.trainable=False"
   ]
  },
  {
   "cell_type": "code",
   "execution_count": 8,
   "metadata": {},
   "outputs": [],
   "source": [
    "flatten_layer = tf.keras.layers.Flatten()\n",
    "dense_layer = tf.keras.layers.Dense(128,activation='relu')\n",
    "dropout_layer = tf.keras.layers.Dropout(0.5)\n",
    "prediction_layer = tf.keras.layers.Dense(10,activation='softmax')"
   ]
  },
  {
   "cell_type": "code",
   "execution_count": 9,
   "metadata": {},
   "outputs": [],
   "source": [
    "vgg19_model = tf.keras.Sequential([\n",
    "  vgg19,\n",
    "  flatten_layer,\n",
    "  dropout_layer,\n",
    "  dense_layer,\n",
    "  prediction_layer\n",
    "])"
   ]
  },
  {
   "cell_type": "code",
   "execution_count": 10,
   "metadata": {},
   "outputs": [
    {
     "name": "stdout",
     "output_type": "stream",
     "text": [
      "Model: \"sequential_1\"\n",
      "_________________________________________________________________\n",
      "Layer (type)                 Output Shape              Param #   \n",
      "=================================================================\n",
      "vgg19 (Model)                (None, 7, 7, 512)         20024384  \n",
      "_________________________________________________________________\n",
      "flatten_1 (Flatten)          (None, 25088)             0         \n",
      "_________________________________________________________________\n",
      "dropout_1 (Dropout)          (None, 25088)             0         \n",
      "_________________________________________________________________\n",
      "dense_2 (Dense)              (None, 128)               3211392   \n",
      "_________________________________________________________________\n",
      "dense_3 (Dense)              (None, 10)                1290      \n",
      "=================================================================\n",
      "Total params: 23,237,066\n",
      "Trainable params: 3,212,682\n",
      "Non-trainable params: 20,024,384\n",
      "_________________________________________________________________\n"
     ]
    }
   ],
   "source": [
    "learning_rate = 0.00001\n",
    "vgg19_model.compile(optimizer=tf.keras.optimizers.Adam(lr=learning_rate), \n",
    "              loss=tf.keras.losses.categorical_crossentropy,\n",
    "              metrics=[\"accuracy\"])\n",
    "vgg19_model.summary()"
   ]
  },
  {
   "cell_type": "code",
   "execution_count": 11,
   "metadata": {},
   "outputs": [
    {
     "name": "stdout",
     "output_type": "stream",
     "text": [
      "Found 1909 images belonging to 10 classes.\n",
      "Found 269 images belonging to 10 classes.\n"
     ]
    }
   ],
   "source": [
    "train_datagen = tf.keras.preprocessing.image.ImageDataGenerator(\n",
    "        rescale=1./255)\n",
    "test_datagen = tf.keras.preprocessing.image.ImageDataGenerator(rescale=1./255)\n",
    "train_generator = train_datagen.flow_from_directory(\n",
    "        r'D:\\BigDataScience\\Dataset\\archive\\Tobacco3482-jpg\\Balanced_train',\n",
    "        target_size=(224, 224),\n",
    "        batch_size=16)\n",
    "test_generator = test_datagen.flow_from_directory(\n",
    "        r'D:\\BigDataScience\\Dataset\\archive\\Tobacco3482-jpg\\Balanced_test',\n",
    "        target_size=(224, 224),\n",
    "        batch_size=16)"
   ]
  },
  {
   "cell_type": "code",
   "execution_count": 12,
   "metadata": {},
   "outputs": [
    {
     "name": "stdout",
     "output_type": "stream",
     "text": [
      "WARNING:tensorflow:From <ipython-input-12-97ecbf874269>:2: is_gpu_available (from tensorflow.python.framework.test_util) is deprecated and will be removed in a future version.\n",
      "Instructions for updating:\n",
      "Use `tf.config.list_physical_devices('GPU')` instead.\n"
     ]
    },
    {
     "data": {
      "text/plain": [
       "True"
      ]
     },
     "execution_count": 12,
     "metadata": {},
     "output_type": "execute_result"
    }
   ],
   "source": [
    "tf.test.is_gpu_available(\n",
    "    cuda_only=False, min_cuda_compute_capability=None\n",
    ")\n"
   ]
  },
  {
   "cell_type": "code",
   "execution_count": 13,
   "metadata": {},
   "outputs": [
    {
     "name": "stdout",
     "output_type": "stream",
     "text": [
      "Epoch 1/50\n",
      "120/119 [==============================] - 62s 518ms/step - loss: 2.3123 - accuracy: 0.1661 - val_loss: 2.0280 - val_accuracy: 0.3420\n",
      "Epoch 2/50\n",
      "120/119 [==============================] - 61s 507ms/step - loss: 2.0118 - accuracy: 0.2808 - val_loss: 1.7582 - val_accuracy: 0.4461\n",
      "Epoch 3/50\n",
      "120/119 [==============================] - 61s 507ms/step - loss: 1.7615 - accuracy: 0.4002 - val_loss: 1.5370 - val_accuracy: 0.5204\n",
      "Epoch 4/50\n",
      "120/119 [==============================] - 61s 508ms/step - loss: 1.5426 - accuracy: 0.4835 - val_loss: 1.4111 - val_accuracy: 0.5093\n",
      "Epoch 5/50\n",
      "120/119 [==============================] - 61s 506ms/step - loss: 1.3964 - accuracy: 0.5202 - val_loss: 1.3193 - val_accuracy: 0.5762\n",
      "Epoch 6/50\n",
      "120/119 [==============================] - 61s 507ms/step - loss: 1.2563 - accuracy: 0.5678 - val_loss: 1.2511 - val_accuracy: 0.5985\n",
      "Epoch 7/50\n",
      "120/119 [==============================] - 61s 507ms/step - loss: 1.1627 - accuracy: 0.6103 - val_loss: 1.1613 - val_accuracy: 0.6097\n",
      "Epoch 8/50\n",
      "120/119 [==============================] - 61s 507ms/step - loss: 1.0858 - accuracy: 0.6558 - val_loss: 1.1306 - val_accuracy: 0.6022\n",
      "Epoch 9/50\n",
      "120/119 [==============================] - 61s 507ms/step - loss: 1.0113 - accuracy: 0.6784 - val_loss: 1.0804 - val_accuracy: 0.6357\n",
      "Epoch 10/50\n",
      "120/119 [==============================] - 61s 509ms/step - loss: 0.9623 - accuracy: 0.6888 - val_loss: 1.0555 - val_accuracy: 0.6394\n",
      "Epoch 11/50\n",
      "120/119 [==============================] - 61s 507ms/step - loss: 0.9096 - accuracy: 0.7009 - val_loss: 1.0290 - val_accuracy: 0.6431\n",
      "Epoch 12/50\n",
      "120/119 [==============================] - 61s 507ms/step - loss: 0.8697 - accuracy: 0.7103 - val_loss: 1.0458 - val_accuracy: 0.6283\n",
      "Epoch 13/50\n",
      "120/119 [==============================] - 61s 507ms/step - loss: 0.8077 - accuracy: 0.7397 - val_loss: 1.0152 - val_accuracy: 0.6357\n",
      "Epoch 14/50\n",
      "120/119 [==============================] - 61s 507ms/step - loss: 0.8143 - accuracy: 0.7376 - val_loss: 1.0088 - val_accuracy: 0.6357\n",
      "Epoch 15/50\n",
      "120/119 [==============================] - 62s 516ms/step - loss: 0.7560 - accuracy: 0.7480 - val_loss: 0.9679 - val_accuracy: 0.6580\n",
      "Epoch 16/50\n",
      "120/119 [==============================] - 61s 507ms/step - loss: 0.7339 - accuracy: 0.7700 - val_loss: 0.9522 - val_accuracy: 0.6580\n",
      "Epoch 17/50\n",
      "120/119 [==============================] - 61s 506ms/step - loss: 0.7025 - accuracy: 0.7763 - val_loss: 0.9548 - val_accuracy: 0.6691\n",
      "Epoch 18/50\n",
      "120/119 [==============================] - 62s 514ms/step - loss: 0.6832 - accuracy: 0.7805 - val_loss: 0.9509 - val_accuracy: 0.6617\n",
      "Epoch 19/50\n",
      "120/119 [==============================] - 61s 510ms/step - loss: 0.6766 - accuracy: 0.7800 - val_loss: 0.9151 - val_accuracy: 0.6840\n",
      "Epoch 20/50\n",
      "120/119 [==============================] - 63s 525ms/step - loss: 0.6575 - accuracy: 0.7899 - val_loss: 0.9274 - val_accuracy: 0.6877\n",
      "Epoch 21/50\n",
      "120/119 [==============================] - 62s 519ms/step - loss: 0.6235 - accuracy: 0.7988 - val_loss: 0.9391 - val_accuracy: 0.6914\n",
      "Epoch 22/50\n",
      "120/119 [==============================] - 61s 509ms/step - loss: 0.6110 - accuracy: 0.8046 - val_loss: 0.9803 - val_accuracy: 0.6654\n",
      "Epoch 23/50\n",
      "120/119 [==============================] - 61s 506ms/step - loss: 0.5818 - accuracy: 0.8172 - val_loss: 0.9072 - val_accuracy: 0.6840\n",
      "Epoch 24/50\n",
      "120/119 [==============================] - 62s 515ms/step - loss: 0.5801 - accuracy: 0.8156 - val_loss: 0.8929 - val_accuracy: 0.7138\n",
      "Epoch 25/50\n",
      "120/119 [==============================] - 61s 508ms/step - loss: 0.5746 - accuracy: 0.8214 - val_loss: 0.8523 - val_accuracy: 0.7063\n",
      "Epoch 26/50\n",
      "120/119 [==============================] - 61s 506ms/step - loss: 0.5353 - accuracy: 0.8287 - val_loss: 0.8824 - val_accuracy: 0.6877\n",
      "Epoch 27/50\n",
      "120/119 [==============================] - 61s 506ms/step - loss: 0.5211 - accuracy: 0.8350 - val_loss: 0.8631 - val_accuracy: 0.7026\n",
      "Epoch 28/50\n",
      "120/119 [==============================] - 61s 507ms/step - loss: 0.5128 - accuracy: 0.8318 - val_loss: 0.8811 - val_accuracy: 0.6989\n",
      "Epoch 29/50\n",
      "120/119 [==============================] - 60s 504ms/step - loss: 0.5076 - accuracy: 0.8413 - val_loss: 0.8665 - val_accuracy: 0.7063\n",
      "Epoch 30/50\n",
      "120/119 [==============================] - 62s 513ms/step - loss: 0.4871 - accuracy: 0.8465 - val_loss: 0.8733 - val_accuracy: 0.7063\n",
      "Epoch 31/50\n",
      "120/119 [==============================] - 61s 507ms/step - loss: 0.4698 - accuracy: 0.8549 - val_loss: 0.8726 - val_accuracy: 0.7100\n",
      "Epoch 32/50\n",
      "120/119 [==============================] - 61s 505ms/step - loss: 0.4664 - accuracy: 0.8565 - val_loss: 0.8594 - val_accuracy: 0.7063\n",
      "Epoch 33/50\n",
      "120/119 [==============================] - 61s 506ms/step - loss: 0.4745 - accuracy: 0.8497 - val_loss: 0.8540 - val_accuracy: 0.7175\n",
      "Epoch 34/50\n",
      "120/119 [==============================] - 61s 506ms/step - loss: 0.4329 - accuracy: 0.8717 - val_loss: 0.8222 - val_accuracy: 0.7286\n",
      "Epoch 35/50\n",
      "120/119 [==============================] - 61s 506ms/step - loss: 0.4368 - accuracy: 0.8622 - val_loss: 0.8389 - val_accuracy: 0.7212\n",
      "Epoch 36/50\n",
      "120/119 [==============================] - 61s 508ms/step - loss: 0.4164 - accuracy: 0.8743 - val_loss: 0.8410 - val_accuracy: 0.7026\n",
      "Epoch 37/50\n",
      "120/119 [==============================] - 61s 506ms/step - loss: 0.4113 - accuracy: 0.8764 - val_loss: 0.8032 - val_accuracy: 0.7138\n",
      "Epoch 38/50\n",
      "120/119 [==============================] - 61s 506ms/step - loss: 0.4068 - accuracy: 0.8811 - val_loss: 0.8097 - val_accuracy: 0.7249\n",
      "Epoch 39/50\n",
      "120/119 [==============================] - 61s 508ms/step - loss: 0.3890 - accuracy: 0.8874 - val_loss: 0.8047 - val_accuracy: 0.7175\n",
      "Epoch 40/50\n",
      "120/119 [==============================] - 61s 506ms/step - loss: 0.3813 - accuracy: 0.8853 - val_loss: 0.8067 - val_accuracy: 0.7212\n",
      "Epoch 41/50\n",
      "120/119 [==============================] - 61s 508ms/step - loss: 0.3696 - accuracy: 0.8916 - val_loss: 0.8317 - val_accuracy: 0.7212\n",
      "Epoch 42/50\n",
      "120/119 [==============================] - 61s 507ms/step - loss: 0.3579 - accuracy: 0.8931 - val_loss: 0.8147 - val_accuracy: 0.7212\n",
      "Epoch 43/50\n",
      "120/119 [==============================] - 61s 506ms/step - loss: 0.3471 - accuracy: 0.8958 - val_loss: 0.8036 - val_accuracy: 0.7212\n",
      "Epoch 44/50\n",
      "120/119 [==============================] - 60s 504ms/step - loss: 0.3617 - accuracy: 0.8937 - val_loss: 0.8722 - val_accuracy: 0.7175\n",
      "Epoch 45/50\n",
      "120/119 [==============================] - 61s 507ms/step - loss: 0.3385 - accuracy: 0.9026 - val_loss: 0.7923 - val_accuracy: 0.7323\n",
      "Epoch 46/50\n",
      "120/119 [==============================] - 61s 508ms/step - loss: 0.3391 - accuracy: 0.9073 - val_loss: 0.8090 - val_accuracy: 0.7249\n",
      "Epoch 47/50\n",
      "120/119 [==============================] - 61s 507ms/step - loss: 0.3269 - accuracy: 0.9068 - val_loss: 0.8015 - val_accuracy: 0.7212\n",
      "Epoch 48/50\n",
      "120/119 [==============================] - 61s 504ms/step - loss: 0.3280 - accuracy: 0.9057 - val_loss: 0.7732 - val_accuracy: 0.7361\n",
      "Epoch 49/50\n",
      "120/119 [==============================] - 60s 504ms/step - loss: 0.3096 - accuracy: 0.9125 - val_loss: 0.7654 - val_accuracy: 0.7435\n",
      "Epoch 50/50\n",
      "120/119 [==============================] - 61s 504ms/step - loss: 0.2971 - accuracy: 0.9193 - val_loss: 0.7682 - val_accuracy: 0.7286\n"
     ]
    }
   ],
   "source": [
    "vgg16_history = vgg19_model.fit(train_generator,\n",
    "                    epochs=50, \n",
    "                    steps_per_epoch =1909/16,\n",
    "                    validation_steps=269/16,\n",
    "                    validation_data=test_generator)"
   ]
  },
  {
   "cell_type": "code",
   "execution_count": 15,
   "metadata": {},
   "outputs": [],
   "source": [
    "vgg19_model.save('vgg19_model.h5')"
   ]
  },
  {
   "cell_type": "code",
   "execution_count": 17,
   "metadata": {},
   "outputs": [
    {
     "data": {
      "image/png": "[encoded data removed]",
      "text/plain": [
       "<Figure size 432x288 with 1 Axes>"
      ]
     },
     "metadata": {
      "needs_background": "light"
     },
     "output_type": "display_data"
    },
    {
     "data": {
      "image/png": "[encoded data removed]",
      "text/plain": [
       "<Figure size 432x288 with 1 Axes>"
      ]
     },
     "metadata": {
      "needs_background": "light"
     },
     "output_type": "display_data"
    }
   ],
   "source": [
    "%matplotlib inline\n",
    "import matplotlib.pyplot as plt\n",
    "import matplotlib.image as mpimg\n",
    "\n",
    "plt.plot(vgg16_history.history['loss'])\n",
    "plt.plot(vgg16_history.history['val_loss'])\n",
    "plt.title('model loss')\n",
    "plt.ylabel('loss')\n",
    "plt.xlabel('epoch')\n",
    "plt.grid()\n",
    "plt.legend(['training loss', 'validation loss'], loc='upper right')\n",
    "plt.show()\n",
    "\n",
    "plt.plot(vgg16_history.history['accuracy'])\n",
    "plt.plot(vgg16_history.history['val_accuracy'])\n",
    "plt.title('model accuracy')\n",
    "plt.grid()\n",
    "plt.ylabel('accuracy')\n",
    "plt.xlabel('epoch')\n",
    "plt.legend(['training accuracy', 'validation accuracy'], loc='lower right')\n",
    "plt.show()"
   ]
  },
  {
   "cell_type": "code",
   "execution_count": null,
   "metadata": {},
   "outputs": [],
   "source": []
  }
 ],
 "metadata": {
  "kernelspec": {
   "display_name": "Python 3",
   "language": "python",
   "name": "python3"
  },
  "language_info": {
   "codemirror_mode": {
    "name": "ipython",
    "version": 3
   },
   "file_extension": ".py",
   "mimetype": "text/x-python",
   "name": "python",
   "nbconvert_exporter": "python",
   "pygments_lexer": "ipython3",
   "version": "3.7.0"
  }
 },
 "nbformat": 4,
 "nbformat_minor": 4
}
