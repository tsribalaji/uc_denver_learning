{
 "cells": [
  {
   "cell_type": "code",
   "execution_count": 1,
   "metadata": {},
   "outputs": [
    {
     "name": "stderr",
     "output_type": "stream",
     "text": [
      "Using TensorFlow backend.\n"
     ]
    },
    {
     "name": "stdout",
     "output_type": "stream",
     "text": [
      "2.3.1\n"
     ]
    }
   ],
   "source": [
    "import keras\n",
    "import tensorflow as tf\n",
    "print(keras.__version__)"
   ]
  },
  {
   "cell_type": "code",
   "execution_count": 2,
   "metadata": {},
   "outputs": [],
   "source": [
    "IMG_SIZE = 224"
   ]
  },
  {
   "cell_type": "code",
   "execution_count": 3,
   "metadata": {},
   "outputs": [],
   "source": [
    "IMG_SHAPE = (IMG_SIZE, IMG_SIZE, 3)"
   ]
  },
  {
   "cell_type": "code",
   "execution_count": 4,
   "metadata": {},
   "outputs": [],
   "source": [
    "Xception = tf.keras.applications.Xception(\n",
    "    input_shape = IMG_SHAPE,\n",
    "    include_top=False,\n",
    "    weights=\"imagenet\")\n",
    "Xception.trainable=False"
   ]
  },
  {
   "cell_type": "code",
   "execution_count": 5,
   "metadata": {},
   "outputs": [],
   "source": [
    "flatten_layer = tf.keras.layers.Flatten()\n",
    "dense_layer = tf.keras.layers.Dense(128,activation='relu')\n",
    "dropout_layer = tf.keras.layers.Dropout(0.5)\n",
    "prediction_layer = tf.keras.layers.Dense(10,activation='softmax')"
   ]
  },
  {
   "cell_type": "code",
   "execution_count": 7,
   "metadata": {},
   "outputs": [],
   "source": [
    "Xception_model = tf.keras.Sequential([\n",
    "  Xception,\n",
    "  flatten_layer,\n",
    "  dropout_layer,\n",
    "  dense_layer,\n",
    "  prediction_layer\n",
    "])"
   ]
  },
  {
   "cell_type": "code",
   "execution_count": 8,
   "metadata": {},
   "outputs": [
    {
     "name": "stdout",
     "output_type": "stream",
     "text": [
      "Model: \"sequential\"\n",
      "_________________________________________________________________\n",
      "Layer (type)                 Output Shape              Param #   \n",
      "=================================================================\n",
      "xception (Model)             (None, 7, 7, 2048)        20861480  \n",
      "_________________________________________________________________\n",
      "flatten (Flatten)            (None, 100352)            0         \n",
      "_________________________________________________________________\n",
      "dropout (Dropout)            (None, 100352)            0         \n",
      "_________________________________________________________________\n",
      "dense (Dense)                (None, 128)               12845184  \n",
      "_________________________________________________________________\n",
      "dense_1 (Dense)              (None, 10)                1290      \n",
      "=================================================================\n",
      "Total params: 33,707,954\n",
      "Trainable params: 12,846,474\n",
      "Non-trainable params: 20,861,480\n",
      "_________________________________________________________________\n"
     ]
    }
   ],
   "source": [
    "learning_rate = 0.00001\n",
    "Xception_model.compile(optimizer=tf.keras.optimizers.Adam(lr=learning_rate), \n",
    "              loss=tf.keras.losses.categorical_crossentropy,\n",
    "              metrics=[\"accuracy\"])\n",
    "Xception_model.summary()"
   ]
  },
  {
   "cell_type": "code",
   "execution_count": 9,
   "metadata": {},
   "outputs": [
    {
     "name": "stdout",
     "output_type": "stream",
     "text": [
      "Found 1909 images belonging to 10 classes.\n",
      "Found 269 images belonging to 10 classes.\n"
     ]
    }
   ],
   "source": [
    "train_datagen = tf.keras.preprocessing.image.ImageDataGenerator(\n",
    "        rescale=1./255)\n",
    "test_datagen = tf.keras.preprocessing.image.ImageDataGenerator(rescale=1./255)\n",
    "train_generator = train_datagen.flow_from_directory(\n",
    "        r'D:\\BigDataScience\\Dataset\\archive\\Tobacco3482-jpg\\Balanced_train',\n",
    "        target_size=(224, 224),\n",
    "        batch_size=16)\n",
    "test_generator = test_datagen.flow_from_directory(\n",
    "        r'D:\\BigDataScience\\Dataset\\archive\\Tobacco3482-jpg\\Balanced_test',\n",
    "        target_size=(224, 224),\n",
    "        batch_size=16)"
   ]
  },
  {
   "cell_type": "code",
   "execution_count": 10,
   "metadata": {},
   "outputs": [
    {
     "name": "stdout",
     "output_type": "stream",
     "text": [
      "WARNING:tensorflow:From <ipython-input-10-97ecbf874269>:2: is_gpu_available (from tensorflow.python.framework.test_util) is deprecated and will be removed in a future version.\n",
      "Instructions for updating:\n",
      "Use `tf.config.list_physical_devices('GPU')` instead.\n"
     ]
    },
    {
     "data": {
      "text/plain": [
       "True"
      ]
     },
     "execution_count": 10,
     "metadata": {},
     "output_type": "execute_result"
    }
   ],
   "source": [
    "tf.test.is_gpu_available(\n",
    "    cuda_only=False, min_cuda_compute_capability=None\n",
    ")\n"
   ]
  },
  {
   "cell_type": "code",
   "execution_count": 11,
   "metadata": {},
   "outputs": [
    {
     "name": "stdout",
     "output_type": "stream",
     "text": [
      "Epoch 1/50\n",
      "120/119 [==============================] - 64s 536ms/step - loss: 1.7013 - accuracy: 0.4233 - val_loss: 1.2934 - val_accuracy: 0.5539\n",
      "Epoch 2/50\n",
      "120/119 [==============================] - 64s 530ms/step - loss: 1.1769 - accuracy: 0.5914 - val_loss: 1.0420 - val_accuracy: 0.6468\n",
      "Epoch 3/50\n",
      "120/119 [==============================] - 64s 533ms/step - loss: 1.0013 - accuracy: 0.6689 - val_loss: 0.9619 - val_accuracy: 0.6468\n",
      "Epoch 4/50\n",
      "120/119 [==============================] - 64s 532ms/step - loss: 0.8667 - accuracy: 0.7056 - val_loss: 0.9558 - val_accuracy: 0.6617\n",
      "Epoch 5/50\n",
      "120/119 [==============================] - 64s 533ms/step - loss: 0.7888 - accuracy: 0.7334 - val_loss: 0.9054 - val_accuracy: 0.6729\n",
      "Epoch 6/50\n",
      "120/119 [==============================] - 64s 530ms/step - loss: 0.6991 - accuracy: 0.7611 - val_loss: 0.9056 - val_accuracy: 0.6617\n",
      "Epoch 7/50\n",
      "120/119 [==============================] - 64s 534ms/step - loss: 0.6465 - accuracy: 0.7837 - val_loss: 0.8856 - val_accuracy: 0.6691\n",
      "Epoch 8/50\n",
      "120/119 [==============================] - 64s 533ms/step - loss: 0.5754 - accuracy: 0.8088 - val_loss: 0.9288 - val_accuracy: 0.6543\n",
      "Epoch 9/50\n",
      "120/119 [==============================] - 64s 532ms/step - loss: 0.5523 - accuracy: 0.8224 - val_loss: 0.8895 - val_accuracy: 0.6766\n",
      "Epoch 10/50\n",
      "120/119 [==============================] - 64s 535ms/step - loss: 0.4864 - accuracy: 0.8465 - val_loss: 0.8020 - val_accuracy: 0.6952\n",
      "Epoch 11/50\n",
      "120/119 [==============================] - 65s 545ms/step - loss: 0.4517 - accuracy: 0.8675 - val_loss: 0.8210 - val_accuracy: 0.7100\n",
      "Epoch 12/50\n",
      "120/119 [==============================] - 64s 535ms/step - loss: 0.4255 - accuracy: 0.8696 - val_loss: 0.7944 - val_accuracy: 0.6989\n",
      "Epoch 13/50\n",
      "120/119 [==============================] - 66s 548ms/step - loss: 0.3932 - accuracy: 0.8795 - val_loss: 0.7755 - val_accuracy: 0.6989\n",
      "Epoch 14/50\n",
      "120/119 [==============================] - 65s 545ms/step - loss: 0.3704 - accuracy: 0.8874 - val_loss: 0.7999 - val_accuracy: 0.7100\n",
      "Epoch 15/50\n",
      "120/119 [==============================] - 63s 527ms/step - loss: 0.3557 - accuracy: 0.8937 - val_loss: 0.7737 - val_accuracy: 0.6989\n",
      "Epoch 16/50\n",
      "120/119 [==============================] - 63s 526ms/step - loss: 0.3196 - accuracy: 0.9141 - val_loss: 0.7845 - val_accuracy: 0.7026\n",
      "Epoch 17/50\n",
      "120/119 [==============================] - 63s 529ms/step - loss: 0.3045 - accuracy: 0.9167 - val_loss: 0.7738 - val_accuracy: 0.7286\n",
      "Epoch 18/50\n",
      "120/119 [==============================] - 64s 537ms/step - loss: 0.2930 - accuracy: 0.9204 - val_loss: 0.8158 - val_accuracy: 0.6877\n",
      "Epoch 19/50\n",
      "120/119 [==============================] - 65s 538ms/step - loss: 0.2612 - accuracy: 0.9361 - val_loss: 0.8167 - val_accuracy: 0.7175\n",
      "Epoch 20/50\n",
      "120/119 [==============================] - 64s 533ms/step - loss: 0.2552 - accuracy: 0.9319 - val_loss: 0.7773 - val_accuracy: 0.7509\n",
      "Epoch 21/50\n",
      "120/119 [==============================] - 64s 529ms/step - loss: 0.2281 - accuracy: 0.9476 - val_loss: 0.7874 - val_accuracy: 0.7323\n",
      "Epoch 22/50\n",
      "120/119 [==============================] - 63s 529ms/step - loss: 0.2217 - accuracy: 0.9445 - val_loss: 0.8690 - val_accuracy: 0.7100\n",
      "Epoch 23/50\n",
      "120/119 [==============================] - 63s 528ms/step - loss: 0.2100 - accuracy: 0.9481 - val_loss: 0.8455 - val_accuracy: 0.7100\n",
      "Epoch 24/50\n",
      "120/119 [==============================] - 63s 522ms/step - loss: 0.1947 - accuracy: 0.9591 - val_loss: 0.8038 - val_accuracy: 0.7175\n",
      "Epoch 25/50\n",
      "120/119 [==============================] - 62s 513ms/step - loss: 0.1907 - accuracy: 0.9513 - val_loss: 0.7589 - val_accuracy: 0.7212\n",
      "Epoch 26/50\n",
      "120/119 [==============================] - 61s 512ms/step - loss: 0.1715 - accuracy: 0.9612 - val_loss: 0.8066 - val_accuracy: 0.7175\n",
      "Epoch 27/50\n",
      "120/119 [==============================] - 62s 514ms/step - loss: 0.1621 - accuracy: 0.9644 - val_loss: 0.8900 - val_accuracy: 0.6989\n",
      "Epoch 28/50\n",
      "120/119 [==============================] - 62s 519ms/step - loss: 0.1583 - accuracy: 0.9680 - val_loss: 0.7906 - val_accuracy: 0.7212\n",
      "Epoch 29/50\n",
      "120/119 [==============================] - 62s 514ms/step - loss: 0.1418 - accuracy: 0.9728 - val_loss: 0.8131 - val_accuracy: 0.7138\n",
      "Epoch 30/50\n",
      "120/119 [==============================] - 62s 513ms/step - loss: 0.1330 - accuracy: 0.9764 - val_loss: 0.7852 - val_accuracy: 0.7472\n",
      "Epoch 31/50\n",
      "120/119 [==============================] - 62s 513ms/step - loss: 0.1297 - accuracy: 0.9796 - val_loss: 0.8254 - val_accuracy: 0.7212\n",
      "Epoch 32/50\n",
      "120/119 [==============================] - 62s 513ms/step - loss: 0.1251 - accuracy: 0.9780 - val_loss: 0.8238 - val_accuracy: 0.7286\n",
      "Epoch 33/50\n",
      "120/119 [==============================] - 61s 512ms/step - loss: 0.1123 - accuracy: 0.9811 - val_loss: 0.8179 - val_accuracy: 0.7249\n",
      "Epoch 34/50\n",
      "120/119 [==============================] - 62s 514ms/step - loss: 0.1047 - accuracy: 0.9853 - val_loss: 0.7915 - val_accuracy: 0.7398\n",
      "Epoch 35/50\n",
      "120/119 [==============================] - 62s 516ms/step - loss: 0.1083 - accuracy: 0.9822 - val_loss: 0.8197 - val_accuracy: 0.7398\n",
      "Epoch 36/50\n",
      "120/119 [==============================] - 63s 528ms/step - loss: 0.0954 - accuracy: 0.9869 - val_loss: 0.8122 - val_accuracy: 0.7361\n",
      "Epoch 37/50\n",
      "120/119 [==============================] - 62s 516ms/step - loss: 0.0854 - accuracy: 0.9900 - val_loss: 0.8170 - val_accuracy: 0.7361\n",
      "Epoch 38/50\n",
      "120/119 [==============================] - 62s 514ms/step - loss: 0.0904 - accuracy: 0.9869 - val_loss: 0.8917 - val_accuracy: 0.7175\n",
      "Epoch 39/50\n",
      "120/119 [==============================] - 61s 512ms/step - loss: 0.0819 - accuracy: 0.9927 - val_loss: 0.8053 - val_accuracy: 0.7361\n",
      "Epoch 40/50\n",
      "120/119 [==============================] - 62s 517ms/step - loss: 0.0782 - accuracy: 0.9900 - val_loss: 0.8141 - val_accuracy: 0.7286\n",
      "Epoch 41/50\n",
      "120/119 [==============================] - 62s 514ms/step - loss: 0.0752 - accuracy: 0.9900 - val_loss: 0.9541 - val_accuracy: 0.6877\n",
      "Epoch 42/50\n",
      "120/119 [==============================] - 62s 514ms/step - loss: 0.0725 - accuracy: 0.9916 - val_loss: 0.8501 - val_accuracy: 0.7361\n",
      "Epoch 43/50\n",
      "120/119 [==============================] - 62s 513ms/step - loss: 0.0637 - accuracy: 0.9963 - val_loss: 0.8225 - val_accuracy: 0.7323\n",
      "Epoch 44/50\n",
      "120/119 [==============================] - 64s 532ms/step - loss: 0.0626 - accuracy: 0.9969 - val_loss: 0.8358 - val_accuracy: 0.7249\n",
      "Epoch 45/50\n",
      "120/119 [==============================] - 61s 505ms/step - loss: 0.0614 - accuracy: 0.9958 - val_loss: 0.8223 - val_accuracy: 0.7249\n",
      "Epoch 46/50\n",
      "120/119 [==============================] - 61s 508ms/step - loss: 0.0548 - accuracy: 0.9974 - val_loss: 0.8416 - val_accuracy: 0.7398\n",
      "Epoch 47/50\n",
      "120/119 [==============================] - 61s 511ms/step - loss: 0.0567 - accuracy: 0.9942 - val_loss: 0.7963 - val_accuracy: 0.7398\n",
      "Epoch 48/50\n",
      "120/119 [==============================] - 62s 514ms/step - loss: 0.0520 - accuracy: 0.9963 - val_loss: 0.8350 - val_accuracy: 0.7361\n",
      "Epoch 49/50\n",
      "120/119 [==============================] - 61s 511ms/step - loss: 0.0472 - accuracy: 0.9979 - val_loss: 0.8592 - val_accuracy: 0.7361\n",
      "Epoch 50/50\n",
      "120/119 [==============================] - 61s 504ms/step - loss: 0.0427 - accuracy: 0.9969 - val_loss: 0.9180 - val_accuracy: 0.7063\n"
     ]
    }
   ],
   "source": [
    "Xception_history = Xception_model.fit(train_generator,\n",
    "                    epochs=50, \n",
    "                    steps_per_epoch =1909/16,\n",
    "                    validation_steps=269/16,\n",
    "                    validation_data=test_generator)"
   ]
  },
  {
   "cell_type": "code",
   "execution_count": 12,
   "metadata": {},
   "outputs": [],
   "source": [
    "Xception_model.save('inceptionResNetV2_history_model.h5')"
   ]
  },
  {
   "cell_type": "code",
   "execution_count": 13,
   "metadata": {},
   "outputs": [
    {
     "data": {
      "image/png": "[encoded data removed]",
      "text/plain": [
       "<Figure size 432x288 with 1 Axes>"
      ]
     },
     "metadata": {
      "needs_background": "light"
     },
     "output_type": "display_data"
    },
    {
     "data": {
      "image/png": "[encoded data removed]",
      "text/plain": [
       "<Figure size 432x288 with 1 Axes>"
      ]
     },
     "metadata": {
      "needs_background": "light"
     },
     "output_type": "display_data"
    }
   ],
   "source": [
    "%matplotlib inline\n",
    "import matplotlib.pyplot as plt\n",
    "import matplotlib.image as mpimg\n",
    "\n",
    "plt.plot(Xception_history.history['loss'])\n",
    "plt.plot(Xception_history.history['val_loss'])\n",
    "plt.title('model loss')\n",
    "plt.ylabel('loss')\n",
    "plt.xlabel('epoch')\n",
    "plt.grid()\n",
    "plt.legend(['training loss', 'validation loss'], loc='upper right')\n",
    "plt.show()\n",
    "\n",
    "plt.plot(Xception_history.history['accuracy'])\n",
    "plt.plot(Xception_history.history['val_accuracy'])\n",
    "plt.title('model accuracy')\n",
    "plt.grid()\n",
    "plt.ylabel('accuracy')\n",
    "plt.xlabel('epoch')\n",
    "plt.legend(['training accuracy', 'validation accuracy'], loc='lower right')\n",
    "plt.show()"
   ]
  },
  {
   "cell_type": "code",
   "execution_count": null,
   "metadata": {},
   "outputs": [],
   "source": []
  }
 ],
 "metadata": {
  "kernelspec": {
   "display_name": "Python 3",
   "language": "python",
   "name": "python3"
  },
  "language_info": {
   "codemirror_mode": {
    "name": "ipython",
    "version": 3
   },
   "file_extension": ".py",
   "mimetype": "text/x-python",
   "name": "python",
   "nbconvert_exporter": "python",
   "pygments_lexer": "ipython3",
   "version": "3.7.0"
  }
 },
 "nbformat": 4,
 "nbformat_minor": 4
}
