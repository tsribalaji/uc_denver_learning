{
 "cells": [
  {
   "cell_type": "code",
   "execution_count": 1,
   "metadata": {},
   "outputs": [
    {
     "name": "stderr",
     "output_type": "stream",
     "text": [
      "Using TensorFlow backend.\n"
     ]
    },
    {
     "name": "stdout",
     "output_type": "stream",
     "text": [
      "2.3.1\n"
     ]
    }
   ],
   "source": [
    "import keras\n",
    "import tensorflow as tf\n",
    "print(keras.__version__)"
   ]
  },
  {
   "cell_type": "code",
   "execution_count": 2,
   "metadata": {},
   "outputs": [],
   "source": [
    "IMG_SIZE = 224"
   ]
  },
  {
   "cell_type": "code",
   "execution_count": 3,
   "metadata": {},
   "outputs": [],
   "source": [
    "IMG_SHAPE = (IMG_SIZE, IMG_SIZE, 3)"
   ]
  },
  {
   "cell_type": "code",
   "execution_count": 4,
   "metadata": {},
   "outputs": [],
   "source": [
    "vgg16 = tf.keras.applications.VGG16(\n",
    "    input_shape = IMG_SHAPE,\n",
    "    include_top=False,\n",
    "    weights=\"imagenet\")\n",
    "vgg16.trainable=False\n",
    "\n",
    "vgg19 = tf.keras.applications.VGG19(\n",
    "    include_top=False,\n",
    "    weights=\"imagenet\")\n",
    "vgg19.trainable=False\n",
    "\n",
    "resNet50 = tf.keras.applications.ResNet50(\n",
    "    include_top=False,\n",
    "    weights=\"imagenet\")\n",
    "resNet50.trainable=False\n",
    "\n",
    "inceptionResNetV2 = tf.keras.applications.InceptionResNetV2(\n",
    "    include_top=False,\n",
    "    weights=\"imagenet\")\n",
    "inceptionResNetV2.trainable=False\n",
    "\n",
    "Xception = tf.keras.applications.Xception(\n",
    "    include_top=False,\n",
    "    weights=\"imagenet\")\n",
    "Xception.trainable=False"
   ]
  },
  {
   "cell_type": "code",
   "execution_count": 5,
   "metadata": {},
   "outputs": [],
   "source": [
    "flatten_layer = tf.keras.layers.Flatten()\n",
    "dense_layer = tf.keras.layers.Dense(128,activation='relu')\n",
    "dropout_layer = tf.keras.layers.Dropout(0.5)\n",
    "prediction_layer = tf.keras.layers.Dense(10,activation='softmax')"
   ]
  },
  {
   "cell_type": "code",
   "execution_count": 6,
   "metadata": {},
   "outputs": [],
   "source": [
    "vgg16_model = tf.keras.Sequential([\n",
    "  vgg16,\n",
    "  flatten_layer,\n",
    "  dropout_layer,\n",
    "  dense_layer,\n",
    "  prediction_layer\n",
    "])"
   ]
  },
  {
   "cell_type": "code",
   "execution_count": 7,
   "metadata": {},
   "outputs": [
    {
     "name": "stdout",
     "output_type": "stream",
     "text": [
      "Model: \"sequential\"\n",
      "_________________________________________________________________\n",
      "Layer (type)                 Output Shape              Param #   \n",
      "=================================================================\n",
      "vgg16 (Model)                (None, 7, 7, 512)         14714688  \n",
      "_________________________________________________________________\n",
      "flatten (Flatten)            (None, 25088)             0         \n",
      "_________________________________________________________________\n",
      "dropout (Dropout)            (None, 25088)             0         \n",
      "_________________________________________________________________\n",
      "dense (Dense)                (None, 128)               3211392   \n",
      "_________________________________________________________________\n",
      "dense_1 (Dense)              (None, 10)                1290      \n",
      "=================================================================\n",
      "Total params: 17,927,370\n",
      "Trainable params: 3,212,682\n",
      "Non-trainable params: 14,714,688\n",
      "_________________________________________________________________\n"
     ]
    }
   ],
   "source": [
    "learning_rate = 0.00001\n",
    "vgg16_model.compile(optimizer=tf.keras.optimizers.Adam(lr=learning_rate), \n",
    "              loss=tf.keras.losses.categorical_crossentropy,\n",
    "              metrics=[\"accuracy\"])\n",
    "vgg16_model.summary()"
   ]
  },
  {
   "cell_type": "code",
   "execution_count": 8,
   "metadata": {},
   "outputs": [
    {
     "name": "stdout",
     "output_type": "stream",
     "text": [
      "Found 1909 images belonging to 10 classes.\n",
      "Found 269 images belonging to 10 classes.\n"
     ]
    }
   ],
   "source": [
    "train_datagen = tf.keras.preprocessing.image.ImageDataGenerator(\n",
    "        rescale=1./255)\n",
    "test_datagen = tf.keras.preprocessing.image.ImageDataGenerator(rescale=1./255)\n",
    "train_generator = train_datagen.flow_from_directory(\n",
    "        r'D:\\BigDataScience\\Dataset\\archive\\Tobacco3482-jpg\\Balanced_train',\n",
    "        target_size=(224, 224),\n",
    "        batch_size=16)\n",
    "test_generator = test_datagen.flow_from_directory(\n",
    "        r'D:\\BigDataScience\\Dataset\\archive\\Tobacco3482-jpg\\Balanced_test',\n",
    "        target_size=(224, 224),\n",
    "        batch_size=16)"
   ]
  },
  {
   "cell_type": "code",
   "execution_count": 9,
   "metadata": {},
   "outputs": [
    {
     "name": "stdout",
     "output_type": "stream",
     "text": [
      "WARNING:tensorflow:From <ipython-input-9-97ecbf874269>:2: is_gpu_available (from tensorflow.python.framework.test_util) is deprecated and will be removed in a future version.\n",
      "Instructions for updating:\n",
      "Use `tf.config.list_physical_devices('GPU')` instead.\n"
     ]
    },
    {
     "data": {
      "text/plain": [
       "True"
      ]
     },
     "execution_count": 9,
     "metadata": {},
     "output_type": "execute_result"
    }
   ],
   "source": [
    "tf.test.is_gpu_available(\n",
    "    cuda_only=False, min_cuda_compute_capability=None\n",
    ")\n"
   ]
  },
  {
   "cell_type": "code",
   "execution_count": 10,
   "metadata": {},
   "outputs": [
    {
     "name": "stdout",
     "output_type": "stream",
     "text": [
      "Epoch 1/50\n",
      "120/119 [==============================] - 62s 517ms/step - loss: 2.3950 - accuracy: 0.1509 - val_loss: 2.0761 - val_accuracy: 0.3234\n",
      "Epoch 2/50\n",
      "120/119 [==============================] - 61s 504ms/step - loss: 2.0210 - accuracy: 0.2881 - val_loss: 1.8386 - val_accuracy: 0.4721\n",
      "Epoch 3/50\n",
      "120/119 [==============================] - 61s 507ms/step - loss: 1.7941 - accuracy: 0.3866 - val_loss: 1.6391 - val_accuracy: 0.5130\n",
      "Epoch 4/50\n",
      "120/119 [==============================] - 61s 505ms/step - loss: 1.5884 - accuracy: 0.4825 - val_loss: 1.4452 - val_accuracy: 0.5428\n",
      "Epoch 5/50\n",
      "120/119 [==============================] - 61s 508ms/step - loss: 1.4518 - accuracy: 0.5259 - val_loss: 1.3587 - val_accuracy: 0.5613\n",
      "Epoch 6/50\n",
      "120/119 [==============================] - 61s 505ms/step - loss: 1.3295 - accuracy: 0.5516 - val_loss: 1.2629 - val_accuracy: 0.5874\n",
      "Epoch 7/50\n",
      "120/119 [==============================] - 61s 506ms/step - loss: 1.2415 - accuracy: 0.5856 - val_loss: 1.1906 - val_accuracy: 0.6171\n",
      "Epoch 8/50\n",
      "120/119 [==============================] - 61s 505ms/step - loss: 1.1556 - accuracy: 0.6255 - val_loss: 1.1751 - val_accuracy: 0.5836\n",
      "Epoch 9/50\n",
      "120/119 [==============================] - 61s 504ms/step - loss: 1.0719 - accuracy: 0.6511 - val_loss: 1.1081 - val_accuracy: 0.6320\n",
      "Epoch 10/50\n",
      "120/119 [==============================] - 61s 507ms/step - loss: 1.0439 - accuracy: 0.6668 - val_loss: 1.0620 - val_accuracy: 0.6543\n",
      "Epoch 11/50\n",
      "120/119 [==============================] - 61s 505ms/step - loss: 0.9807 - accuracy: 0.6726 - val_loss: 1.0759 - val_accuracy: 0.6543\n",
      "Epoch 12/50\n",
      "120/119 [==============================] - 61s 505ms/step - loss: 0.9431 - accuracy: 0.6894 - val_loss: 1.0560 - val_accuracy: 0.6468\n",
      "Epoch 13/50\n",
      "120/119 [==============================] - 61s 505ms/step - loss: 0.8918 - accuracy: 0.7114 - val_loss: 1.0381 - val_accuracy: 0.6580\n",
      "Epoch 14/50\n",
      "120/119 [==============================] - 61s 505ms/step - loss: 0.8750 - accuracy: 0.7177 - val_loss: 1.0180 - val_accuracy: 0.6691\n",
      "Epoch 15/50\n",
      "120/119 [==============================] - 61s 505ms/step - loss: 0.8337 - accuracy: 0.7307 - val_loss: 1.0074 - val_accuracy: 0.6729\n",
      "Epoch 16/50\n",
      "120/119 [==============================] - 61s 505ms/step - loss: 0.7864 - accuracy: 0.7470 - val_loss: 1.0222 - val_accuracy: 0.6617\n",
      "Epoch 17/50\n",
      "120/119 [==============================] - 61s 506ms/step - loss: 0.7859 - accuracy: 0.7554 - val_loss: 0.9945 - val_accuracy: 0.6580\n",
      "Epoch 18/50\n",
      "120/119 [==============================] - 61s 509ms/step - loss: 0.7471 - accuracy: 0.7617 - val_loss: 0.9798 - val_accuracy: 0.6691\n",
      "Epoch 19/50\n",
      "120/119 [==============================] - 61s 506ms/step - loss: 0.7400 - accuracy: 0.7679 - val_loss: 0.9479 - val_accuracy: 0.6914\n",
      "Epoch 20/50\n",
      "120/119 [==============================] - 60s 502ms/step - loss: 0.6993 - accuracy: 0.7800 - val_loss: 0.9666 - val_accuracy: 0.6840\n",
      "Epoch 21/50\n",
      "120/119 [==============================] - 80s 667ms/step - loss: 0.6795 - accuracy: 0.7774 - val_loss: 0.9453 - val_accuracy: 0.6914\n",
      "Epoch 22/50\n",
      "120/119 [==============================] - 61s 505ms/step - loss: 0.6653 - accuracy: 0.7905 - val_loss: 0.9242 - val_accuracy: 0.6877\n",
      "Epoch 23/50\n",
      "120/119 [==============================] - 61s 508ms/step - loss: 0.6494 - accuracy: 0.7863 - val_loss: 0.9580 - val_accuracy: 0.6989\n",
      "Epoch 24/50\n",
      "120/119 [==============================] - 60s 504ms/step - loss: 0.6212 - accuracy: 0.7957 - val_loss: 0.9395 - val_accuracy: 0.6914\n",
      "Epoch 25/50\n",
      "120/119 [==============================] - 60s 503ms/step - loss: 0.6045 - accuracy: 0.8167 - val_loss: 0.9177 - val_accuracy: 0.6914\n",
      "Epoch 26/50\n",
      "120/119 [==============================] - 61s 507ms/step - loss: 0.6134 - accuracy: 0.7983 - val_loss: 0.9196 - val_accuracy: 0.7026\n",
      "Epoch 27/50\n",
      "120/119 [==============================] - 60s 504ms/step - loss: 0.5810 - accuracy: 0.8151 - val_loss: 0.9085 - val_accuracy: 0.6989\n",
      "Epoch 28/50\n",
      "120/119 [==============================] - 61s 506ms/step - loss: 0.5697 - accuracy: 0.8240 - val_loss: 0.9228 - val_accuracy: 0.7063\n",
      "Epoch 29/50\n",
      "120/119 [==============================] - 60s 504ms/step - loss: 0.5516 - accuracy: 0.8282 - val_loss: 0.8946 - val_accuracy: 0.7138\n",
      "Epoch 30/50\n",
      "120/119 [==============================] - 60s 503ms/step - loss: 0.5447 - accuracy: 0.8292 - val_loss: 0.8812 - val_accuracy: 0.7063\n",
      "Epoch 31/50\n",
      "120/119 [==============================] - 61s 506ms/step - loss: 0.5318 - accuracy: 0.8366 - val_loss: 0.8889 - val_accuracy: 0.7026\n",
      "Epoch 32/50\n",
      "120/119 [==============================] - 62s 514ms/step - loss: 0.4967 - accuracy: 0.8460 - val_loss: 0.8807 - val_accuracy: 0.6989\n",
      "Epoch 33/50\n",
      "120/119 [==============================] - 60s 504ms/step - loss: 0.5062 - accuracy: 0.8476 - val_loss: 0.8581 - val_accuracy: 0.6989\n",
      "Epoch 34/50\n",
      "120/119 [==============================] - 61s 505ms/step - loss: 0.4790 - accuracy: 0.8533 - val_loss: 0.9151 - val_accuracy: 0.7026\n",
      "Epoch 35/50\n",
      "120/119 [==============================] - 61s 504ms/step - loss: 0.4930 - accuracy: 0.8565 - val_loss: 0.8587 - val_accuracy: 0.7100\n",
      "Epoch 36/50\n",
      "120/119 [==============================] - 61s 505ms/step - loss: 0.4840 - accuracy: 0.8570 - val_loss: 0.8791 - val_accuracy: 0.7026\n",
      "Epoch 37/50\n",
      "120/119 [==============================] - 61s 505ms/step - loss: 0.4731 - accuracy: 0.8591 - val_loss: 0.8833 - val_accuracy: 0.6989\n",
      "Epoch 38/50\n",
      "120/119 [==============================] - 60s 503ms/step - loss: 0.4440 - accuracy: 0.8654 - val_loss: 0.8616 - val_accuracy: 0.7138\n",
      "Epoch 39/50\n",
      "120/119 [==============================] - 60s 504ms/step - loss: 0.4445 - accuracy: 0.8664 - val_loss: 0.8547 - val_accuracy: 0.7026\n",
      "Epoch 40/50\n",
      "120/119 [==============================] - 60s 504ms/step - loss: 0.4342 - accuracy: 0.8743 - val_loss: 0.8533 - val_accuracy: 0.7100\n",
      "Epoch 41/50\n",
      "120/119 [==============================] - 61s 505ms/step - loss: 0.4275 - accuracy: 0.8717 - val_loss: 0.8172 - val_accuracy: 0.7286\n",
      "Epoch 42/50\n",
      "120/119 [==============================] - 60s 503ms/step - loss: 0.4155 - accuracy: 0.8816 - val_loss: 0.8189 - val_accuracy: 0.7212\n",
      "Epoch 43/50\n",
      "120/119 [==============================] - 60s 503ms/step - loss: 0.4099 - accuracy: 0.8690 - val_loss: 0.8622 - val_accuracy: 0.7063\n",
      "Epoch 44/50\n",
      "120/119 [==============================] - 60s 503ms/step - loss: 0.3973 - accuracy: 0.8869 - val_loss: 0.8699 - val_accuracy: 0.7063\n",
      "Epoch 45/50\n",
      "120/119 [==============================] - 60s 503ms/step - loss: 0.3860 - accuracy: 0.8821 - val_loss: 0.8301 - val_accuracy: 0.7138\n",
      "Epoch 46/50\n",
      "120/119 [==============================] - 60s 504ms/step - loss: 0.3836 - accuracy: 0.8832 - val_loss: 0.8574 - val_accuracy: 0.7175\n",
      "Epoch 47/50\n",
      "120/119 [==============================] - 60s 504ms/step - loss: 0.3662 - accuracy: 0.8863 - val_loss: 0.8213 - val_accuracy: 0.7063\n",
      "Epoch 48/50\n",
      "120/119 [==============================] - 60s 504ms/step - loss: 0.3668 - accuracy: 0.8926 - val_loss: 0.8242 - val_accuracy: 0.7063\n",
      "Epoch 49/50\n",
      "120/119 [==============================] - 60s 504ms/step - loss: 0.3679 - accuracy: 0.8989 - val_loss: 0.7995 - val_accuracy: 0.7249\n",
      "Epoch 50/50\n",
      "120/119 [==============================] - 60s 503ms/step - loss: 0.3532 - accuracy: 0.9026 - val_loss: 0.7935 - val_accuracy: 0.7435\n"
     ]
    }
   ],
   "source": [
    "vgg16_history = vgg16_model.fit(train_generator,\n",
    "                    epochs=50, \n",
    "                    steps_per_epoch =1909/16,\n",
    "                    validation_steps=269/16,\n",
    "                    validation_data=test_generator)"
   ]
  },
  {
   "cell_type": "code",
   "execution_count": 11,
   "metadata": {},
   "outputs": [],
   "source": [
    "vgg16_model.save('vgg16_model.h5')"
   ]
  },
  {
   "cell_type": "code",
   "execution_count": 12,
   "metadata": {},
   "outputs": [
    {
     "data": {
      "image/png": "[encoded data removed]",
      "text/plain": [
       "<Figure size 432x288 with 1 Axes>"
      ]
     },
     "metadata": {
      "needs_background": "light"
     },
     "output_type": "display_data"
    },
    {
     "data": {
      "image/png": "[encoded data removed]",
      "text/plain": [
       "<Figure size 432x288 with 1 Axes>"
      ]
     },
     "metadata": {
      "needs_background": "light"
     },
     "output_type": "display_data"
    }
   ],
   "source": [
    "%matplotlib inline\n",
    "import matplotlib.pyplot as plt\n",
    "import matplotlib.image as mpimg\n",
    "\n",
    "plt.plot(vgg16_history.history['loss'])\n",
    "plt.plot(vgg16_history.history['val_loss'])\n",
    "plt.title('model loss')\n",
    "plt.ylabel('loss')\n",
    "plt.xlabel('epoch')\n",
    "plt.grid()\n",
    "plt.legend(['training loss', 'validation loss'], loc='upper right')\n",
    "plt.show()\n",
    "\n",
    "plt.plot(vgg16_history.history['accuracy'])\n",
    "plt.plot(vgg16_history.history['val_accuracy'])\n",
    "plt.title('model accuracy')\n",
    "plt.grid()\n",
    "plt.ylabel('accuracy')\n",
    "plt.xlabel('epoch')\n",
    "plt.legend(['training accuracy', 'validation accuracy'], loc='lower right')\n",
    "plt.show()"
   ]
  },
  {
   "cell_type": "code",
   "execution_count": null,
   "metadata": {},
   "outputs": [],
   "source": []
  }
 ],
 "metadata": {
  "kernelspec": {
   "display_name": "Python 3",
   "language": "python",
   "name": "python3"
  },
  "language_info": {
   "codemirror_mode": {
    "name": "ipython",
    "version": 3
   },
   "file_extension": ".py",
   "mimetype": "text/x-python",
   "name": "python",
   "nbconvert_exporter": "python",
   "pygments_lexer": "ipython3",
   "version": "3.7.0"
  }
 },
 "nbformat": 4,
 "nbformat_minor": 4
}
